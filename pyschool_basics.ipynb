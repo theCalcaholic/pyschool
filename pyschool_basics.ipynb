{
 "cells": [
  {
   "cell_type": "markdown",
   "metadata": {},
   "source": [
    "# PySchool\n",
    "\n",
    "## Table of Contents\n",
    "\n",
    "0. Course structure\n",
    "1. Variables / Assignments\n",
    "2. Operators\n",
    "3. Control Structures\n",
    "4. Functions\n",
    "5. Objects"
   ]
  },
  {
   "cell_type": "code",
   "execution_count": null,
   "metadata": {},
   "outputs": [],
   "source": []
  },
  {
   "cell_type": "markdown",
   "metadata": {},
   "source": [
    "First we will set up some things for you...\n",
    "Please execute the following code by seleting it and hitting run (from the menu above)"
   ]
  },
  {
   "cell_type": "code",
   "execution_count": 86,
   "metadata": {},
   "outputs": [],
   "source": [
    "#import ipytest\n",
    "# ipytest.config(rewrite_asserts=True, magics=True)\n",
    "t = [False] * 30"
   ]
  },
  {
   "cell_type": "markdown",
   "metadata": {},
   "source": [
    "## 0. Course Structure\n",
    "\n",
    "Throughout this course, various concepts about Python programming will be explained to you and then you will be presented tasks to test your knowledge."
   ]
  },
  {
   "cell_type": "markdown",
   "metadata": {},
   "source": [
    "### Task\n",
    "\n",
    "In this first task, please replace the text `I'm doing awful` with `I'm doing great`. Afterwards, run the task (by selecting it and hitting run from the menu above).\n",
    "\n",
    "If you change a task, you will always have to rerun it for the changes to apply"
   ]
  },
  {
   "cell_type": "code",
   "execution_count": 78,
   "metadata": {},
   "outputs": [],
   "source": [
    "how_im_doing = \"I'm doing awful\""
   ]
  },
  {
   "cell_type": "markdown",
   "metadata": {},
   "source": [
    "### Test\n",
    "\n",
    "Afterwards, there will be an automated test to check if you successfully solved the task. You don't need to understand how these work right now, the relevant techniques will be covered way down the line.\n",
    "\n",
    "*However, don't ever change the test, that's cheating!*\n",
    "\n",
    "Try running it (if you need to fix anything in the task, you will have to rerun both the task and the test for your changes to have an effect:"
   ]
  },
  {
   "cell_type": "code",
   "execution_count": 33,
   "metadata": {},
   "outputs": [
    {
     "name": "stdout",
     "output_type": "stream",
     "text": [
      "\u001b[31mThat solution isn't quite correct:\u001b[0m\n",
      "\n",
      "\u001b[31mYou're not doing great yet!\u001b[0m\n"
     ]
    }
   ],
   "source": [
    "try:\n",
    "    assert how_im_doing == \"I'm doing great\", \"You're not doing great yet!\"\n",
    "    del how_im_doing\n",
    "    print(\"\\x1b[32mYou did it!\\x1b[0m\\n\")\n",
    "except AssertionError as e:\n",
    "    print(\"\\x1b[31mThat solution isn't quite correct:\\x1b[0m\\n\")\n",
    "    print(f\"\\x1b[31m{e}\\x1b[0m\")"
   ]
  },
  {
   "cell_type": "markdown",
   "metadata": {},
   "source": [
    "Congratulations! You have successfully solved your first task.\n",
    "\n",
    "Now let's get to the real stuff.."
   ]
  },
  {
   "cell_type": "markdown",
   "metadata": {},
   "source": [
    "## 1. Values\n",
    "\n",
    "Did you know, that all programs only do one basic thing? They transform data that they're presented with into other data. That easy. Who would have thought that the concept that all your technical gadgets run on is that boring.\n",
    "\n",
    "For this reason we should have a thorough look at how data can be represented in Python.\n",
    "First of all, there are different *types* of values. Let's walk through them:\n",
    "\n",
    "* *Integers* are your basic whole numbers, e.g. `1`, `-17` or `289`. Whenever you write a whole digit in your code, it will automatically considered an integer\n",
    "* *Floats* represent all decimal numbers like `1.75`, `-7.23452` or `7.512e-01`. Whole numbers can be floats too, in which case you need to write them as e.g. `1.0` in order to be considered so\n",
    "* *Booleans* are your typical small-minded fellows, trying to classify everything as either `True` or `False`. Whenever you use either of these keywords in your code, you'll get a boolean.\n",
    "* *Strings* are what you use to represent text. Whenever your wrap some text in quotes (either single or double quotes), you'll get a string.\n",
    "\n",
    "For each value type, there is a keyword, which can be used for checking a value's type or for converting a value to another type.\n",
    "\n",
    "Checking a type can be done like this: `type(1.3) is float` which will give you a boolean with the value of either `True` or `False` (depending on whether that statement *is* true or false).\n",
    "Btw, did you notice the `type(...)` section? That's a function - more on that later.\n",
    "\n",
    "Converting a type can be done in this way: `float(\"7.8\")`. However, type convertion is not magic and you'll get an error if this function can't figure out how to do the conversion (for example `float(\"abc\")` will fail).\n",
    "\n",
    "The corresponding type keywords/functions for the respective types are:\n",
    "* Integer: `int`\n",
    "* Float: `float`\n",
    "* Boolean: `bool`\n",
    "* String: `str`"
   ]
  },
  {
   "cell_type": "markdown",
   "metadata": {},
   "source": [
    "### Task\n",
    "\n",
    "Complete the following statements (by replacing the `_` placeholders) in a way that they become true\n",
    "\n",
    "You can ignore the `t[...] = ` stuff, that's just used by me to evaluate your solutions."
   ]
  },
  {
   "cell_type": "code",
   "execution_count": 92,
   "metadata": {},
   "outputs": [],
   "source": [
    "t[0] = type(_) is int\n",
    "t[1] = type(_) is float\n",
    "t[2] = type(True) is _\n",
    "t[3] = type(_) is str\n",
    "t[4] = type(7.8) is _"
   ]
  },
  {
   "cell_type": "markdown",
   "metadata": {},
   "source": [
    "### Test"
   ]
  },
  {
   "cell_type": "code",
   "execution_count": 93,
   "metadata": {},
   "outputs": [
    {
     "name": "stdout",
     "output_type": "stream",
     "text": [
      "\u001b[31mThat's not it:\u001b[0m\n",
      "\n",
      "\u001b[31mTask 1 failed: That value is not an int\u001b[0m\n"
     ]
    }
   ],
   "source": [
    "try:\n",
    "    msg_1 = \"Task {} failed: That value is not an {}\"\n",
    "    msg_2 = \"Task {} failed: That value has another type\"\n",
    "    assert t[0] is True, msg_1.format(1, \"int\")\n",
    "    assert t[1] is True, msg_1.format(2, \"float\")\n",
    "    assert t[2] is True, msg_2.format(3)\n",
    "    assert t[3] is True, msg_1.format(4, \"str\")\n",
    "    assert t[4] is True, msg_2.format(5)\n",
    "    print(\"\\x1b[32mGood Job!\\x1b[0m\\n\")\n",
    "    \n",
    "    t = [False] * 30\n",
    "except AssertionError as e:\n",
    "    print(\"\\x1b[31mThat's not it:\\x1b[0m\\n\")\n",
    "    print(f\"\\x1b[31m{e}\\x1b[0m\")"
   ]
  },
  {
   "cell_type": "markdown",
   "metadata": {},
   "source": [
    "## Variables\n",
    "\n",
    "You probably know this concept from Maths: In order to split big tasks in smaller steps, you can assign intermediate values to variables (or even use them, to write down formulars if you don't know the values yet).\n",
    "\n",
    "We will make heavy use of them, so pay attention!\n",
    "\n",
    "Variables can be assigned in the same way you would do in Maths:\n",
    "`greeting = \"hello there!\"`\n",
    "Subsequently, you can use that value in your code, without retyping it - isn't that sweet?\n",
    "For example, you could write the following, and it would work:\n",
    "`type(greeting) is string`\n",
    "\n",
    "As you can guess from the example, variables also have a type wich is corresponding to the type of their value. However, you can assign a variable a value of another type at any time (which will change the variable type as well).\n",
    "\n",
    "You can use variables in any place that you could use a value of the same type."
   ]
  },
  {
   "cell_type": "markdown",
   "metadata": {},
   "source": [
    "### Task\n",
    "\n",
    "Complete the following code, so that the type checks are all true"
   ]
  },
  {
   "cell_type": "code",
   "execution_count": 102,
   "metadata": {},
   "outputs": [],
   "source": [
    "a = _\n",
    "b = _\n",
    "c = _\n",
    "d = a\n",
    "e = c\n",
    "\n",
    "t[0] = type(a) is int\n",
    "t[1] = type(b) is bool\n",
    "t[2] = type(c) is str\n",
    "t[3] = type(d) is _\n",
    "t[4] = type(e) is _"
   ]
  },
  {
   "cell_type": "markdown",
   "metadata": {},
   "source": [
    "### Test"
   ]
  },
  {
   "cell_type": "code",
   "execution_count": 103,
   "metadata": {},
   "outputs": [
    {
     "name": "stdout",
     "output_type": "stream",
     "text": [
      "\u001b[31mNot really... Try again!\u001b[0m\n",
      "\n",
      "\u001b[31mTask 1 failed: Variable 'a' has not been assigned an int value\u001b[0m\n"
     ]
    }
   ],
   "source": [
    "try:\n",
    "    msg_1 = \"Task {} failed: Variable '{}' has not been assigned an {} value\"\n",
    "    msg_2 = \"Task {} failed: Variable '{}' has a different type\"\n",
    "    assert t[0] is True, msg_1.format(1, \"a\", \"int\")\n",
    "    assert t[1] is True, msg_1.format(2, \"b\", \"bool\")\n",
    "    assert t[2] is True, msg_1.format(3, \"c\", \"str\")\n",
    "    assert t[3] is True, msg_2.format(4, \"d\")\n",
    "    assert t[4] is True, msg_2.format(5, \"e\")\n",
    "    \n",
    "    print(\"\\x1b[32mNice one!\\x1b[0m\\n\")\n",
    "    \n",
    "    t = [False] * 30\n",
    "except AssertionError as _e:\n",
    "    print(\"\\x1b[31mNot really... Try again!\\x1b[0m\\n\")\n",
    "    print(f\"\\x1b[31m{_e}\\x1b[0m\")"
   ]
  },
  {
   "cell_type": "markdown",
   "metadata": {},
   "source": [
    "## Operators\n",
    "\n",
    "You tell me! What? Yes, you already know one. Remember the `is` thingy we used for type checks? That's an operator.\n",
    "Generally speaking, operators take one or two values and give you (we will usually say `return`) another one.\n",
    "\n",
    "The `is` operator, for example, checks if two values represent the same object. However, you don't know about objects yet, so this concept will not make a lot of sense for now (and even when you learn about objects, the `is` operator is not that easy to fully understand). For now, just don't use it for anything else than type checks and you'll be good.\n",
    "\n",
    "Let's discuss a few more operators, shall we?\n",
    "\n",
    "### Logical operators\n",
    "\n",
    "#### `and`\n",
    "\n",
    "`and` takes two boolean values and returns another one: `True` if both of them were true, `False` otherwise.\n",
    "Examples:\n",
    "\n",
    "`True and True`  -> True\n",
    "\n",
    "`True and False` -> False\n",
    "\n",
    "---\n",
    "\n",
    "#### `or`\n",
    "\n",
    "Similar to `and`, `or` takes two boolean values and returns another one: `True` if *any* of them was true, `False` otherwise (Not very surprising, is it?).\n",
    "Examples:\n",
    "\n",
    "`True or True` -> `True`\n",
    "\n",
    "`True or False` -> `True`\n",
    "\n",
    "`False or False` -> `False`\n",
    "\n",
    "---\n",
    "\n",
    "#### `not`\n",
    "\n",
    "`not` takes one boolean value and negates ('inverts') it\n",
    "Examples:\n",
    "`not True` -> `False`\n",
    "\n",
    "`not False` -> `True`\n",
    "\n",
    "---\n",
    "\n",
    "#### `==` and `!=`\n",
    "\n",
    "`==` takes two values of any type and returns a boolean: `True` if they are equal, `False` if they are not (or incomparable). `!=` is the inverse of `==` (it returns `False` if the values are equal, `True` otherwise)\n",
    "Examples:\n",
    "\n",
    "`3 == 3` -> `True`\n",
    "\n",
    "`3 == 7` -> `False`\n",
    "\n",
    "`\"abc\" == \"abcd\"` -> `False`\n",
    "\n",
    "`\"hello\" == 2.5` -> `False`\n",
    "\n",
    "`3 != 3` -> `False`\n",
    "\n",
    "`3 != 7` -> `True`\n",
    "\n",
    "\n",
    "### Chaining\n",
    "\n",
    "You can chain operator expressions into one big statement, e.g. `5 == 5 and not True == False and 4 != 3`\n",
    "You may wonder in which order these operators will be evaluated, and you're right to do so! In this case, `==` and `!=` take precedence over `and`, `or` and `not` and `not` takes precedence over `and`/`or`. The order of evaluation of operators is definite, but to my knowledge there's no simple rule for remembering it. However, it *usually* works how you'd expect it too. ¯\\_(ツ)_/¯\n",
    "\n",
    "If you want to be sure (or want to have control over the order of evaluation), you can use braces (again, like you're used to from Maths), e.g.: `5 == 5 and (not True) == False and 4 != 3`"
   ]
  },
  {
   "cell_type": "markdown",
   "metadata": {},
   "source": [
    "### Task\n",
    "\n",
    "Assign the variables with the correct values to make all statements true"
   ]
  },
  {
   "cell_type": "code",
   "execution_count": 104,
   "metadata": {},
   "outputs": [
    {
     "data": {
      "text/plain": [
       "True"
      ]
     },
     "execution_count": 104,
     "metadata": {},
     "output_type": "execute_result"
    }
   ],
   "source": [
    "a = _\n",
    "b = _\n",
    "c = _\n",
    "d = _\n",
    "\n",
    "7 == a and 9 != b\n",
    "\"4\" == c or False == True\n",
    "not 2 == d"
   ]
  },
  {
   "cell_type": "markdown",
   "metadata": {},
   "source": [
    "### Test"
   ]
  },
  {
   "cell_type": "code",
   "execution_count": 105,
   "metadata": {},
   "outputs": [
    {
     "name": "stdout",
     "output_type": "stream",
     "text": [
      "\u001b[31mJust give it another try! :)\u001b[0m\n",
      "\n",
      "\u001b[31mTask 1 failed: 'a == 7' is False\u001b[0m\n"
     ]
    }
   ],
   "source": [
    "try:\n",
    "    msg = \"Task {} failed: {}\"\n",
    "    assert a == 7, msg.format(1, \"'a == 7' is False\")\n",
    "    assert b != 9, msg.format(1, \"'9 != b' is False\") \n",
    "    assert c == \"4\", msg.format(2, \"'\\\"4\\\" == c' is False\")\n",
    "    assert not 2 == d, msg.format(3, \"'not 2 == d' is False\")\n",
    "    \n",
    "    print(\"\\x1b[32mJust. Perfect.\\x1b[0m\\n\")\n",
    "    \n",
    "    del a, b, c, d\n",
    "except AssertionError as _e:\n",
    "    print(\"\\x1b[31mJust give it another try! :)\\x1b[0m\\n\")\n",
    "    print(f\"\\x1b[31m{_e}\\x1b[0m\")"
   ]
  },
  {
   "cell_type": "markdown",
   "metadata": {},
   "source": [
    "### Arithmetic Operators\n",
    "\n",
    "#### `>`, `<`, `>=` and `<=`\n",
    "\n",
    "Similar to `==` and `!=`, these operators compare two values and return a boolean. However, they are only applicable to numbers. You probably know this notation from Maths, `x < y` means \"x is smaller than y\", `x > y` means \"x is greater than y\", `<=` (\"less or equal\") and `>=` (\"greater or equal\") work accordingly.\n",
    "Examples:\n",
    "\n",
    "`3 < 5` -> True\n",
    "\n",
    "`3 > 5` -> False\n",
    "\n",
    "`4 <= 4` -> True\n",
    "\n",
    "`7 >= 2` -> True\n",
    "\n",
    "#### `+`, `-`, `*` and `/`\n",
    "\n",
    "These are your basic arithmetic operators for addition (`+`), subtraction (`-`), multiplication (`*`) and division (`/`). As you would expect, they take two numeric values (i.e. int or float) and return another.\n",
    "There's one catch: If you use these operators on integers, the result will also be an integer. If the calculation would result in a decimal value, it will be rounded down (because decimals can't be represented by an integer, remember?).\n",
    "Examples:\n",
    "\n",
    "`3 + 5` -> `8`\n",
    "\n",
    "`2 * 6` -> `12`\n",
    "\n",
    "`0.5 * 8` -> `4.0`\n",
    "\n",
    "`8 / 3` -> `2`\n"
   ]
  },
  {
   "cell_type": "markdown",
   "metadata": {},
   "source": [
    "### Task\n",
    "\n",
    "You know the gist... Assign the variables so that all the statements are true"
   ]
  },
  {
   "cell_type": "code",
   "execution_count": 106,
   "metadata": {},
   "outputs": [
    {
     "data": {
      "text/plain": [
       "False"
      ]
     },
     "execution_count": 106,
     "metadata": {},
     "output_type": "execute_result"
    }
   ],
   "source": [
    "a = _\n",
    "b = _\n",
    "c = _\n",
    "d = _\n",
    "\n",
    "7 * a == 35\n",
    "b / 3 > 13\n",
    "2.5 * c == 20.0\n",
    "d < 17 and d > 7 and d * 2 >= 30"
   ]
  },
  {
   "cell_type": "markdown",
   "metadata": {},
   "source": [
    "### Test"
   ]
  },
  {
   "cell_type": "code",
   "execution_count": 108,
   "metadata": {},
   "outputs": [
    {
     "name": "stdout",
     "output_type": "stream",
     "text": [
      "\u001b[31mNext time it'll work for sure!\u001b[0m\n",
      "\n",
      "\u001b[31mTask 1 failed: '7 * a == 35' is False\u001b[0m\n"
     ]
    }
   ],
   "source": [
    "try:\n",
    "    msg = \"Task {} failed: {}\"\n",
    "    assert 7 * a == 35, msg.format(1, \"'7 * a == 35' is False\")\n",
    "    assert b / 3 > 13, msg.format(2, \"'b / 3 > 13' is False\") \n",
    "    assert 2.5 * c == 20.0, msg.format(3, \"'2.5 * c == 20.0' is False\")\n",
    "    assert d < 17, msg.format(4, \"'d < 17' is False\")\n",
    "    assert d > 7, msg.format(4, \"'d > 7' is False\")\n",
    "    assert d * 2 >= 30, msg.format(4, \"'d * 2 >= 30' is False\")\n",
    "    \n",
    "    print(\"\\x1b[32mThe correct solution, delivered with style.\\x1b[0m\\n\")\n",
    "    \n",
    "    del a, b, c, d\n",
    "except AssertionError as _e:\n",
    "    print(\"\\x1b[31mNext time it'll work for sure!\\x1b[0m\\n\")\n",
    "    print(f\"\\x1b[31m{_e}\\x1b[0m\")"
   ]
  },
  {
   "cell_type": "markdown",
   "metadata": {},
   "source": [
    "## Control Structures"
   ]
  },
  {
   "cell_type": "markdown",
   "metadata": {},
   "source": [
    "Now on to some fun stuff! \n",
    "Let's imagine the following scenario:\n",
    "\n",
    "You're a spy in a secret society, all members of which greet each other with the phrase \"May the great windmill smile onto your ancestors!\". However, you're looking for a contact person named \"Alfonso\", that you need to tell the following secret: \"The cake is a lie\".\n",
    "\n",
    "You probably guessed it by now: You're going to implement that scenario in code. Everytime you 'encounter' someone, who is not called \"Alfonso\", you need to greet him/her with the greeting phrase, otherwise you need to tell him the secret phrase.\n",
    "\n",
    "In order to achieve that kind of behaviour, you need something called \"control structures\" - these are means to control which code will be executed based on some condition. Introducing...\n",
    "\n",
    "### `if` ... `elif` ... `else`\n",
    "\n",
    "The `if` expression allows you to *only* execute a block of code, if some condition is met. For example:\n",
    "\n",
    "```py\n",
    "if 2 + 2 == 5:\n",
    "  message = \"Math is broken! Physics will collapse! The end is nigh!\"\n",
    "```\n",
    "\n",
    "will only assign the message variable with that string, if `2 + 2 == 5` evaluates to true (which admittedly is very unlikely to happen at any point, but hey - it's an example).\n",
    "\n",
    "That's already very handy, however, you'll often find yourself in situations, where you need to take different actions in more than one case. One solution is, to just define another if statement. But, if the conditions for these cases are mutually exclusive (if one is true, another can't be), there's an easier way.\n",
    "\n",
    "if you have one condition,\n",
    "\n",
    "```py\n",
    "\n",
    "if 2 + 2 == 5:\n",
    "  message = \"Math is broken! Physics will collapse! The end is nigh!\"\n",
    "elif problem_count == 99:\n",
    "  message = \"I got 99 problems, but Math ain't one.\"\n",
    "else:\n",
    "  message = \"Math is working fine. Walk on, nothing to see here!\"\n",
    "```"
   ]
  }
 ],
 "metadata": {
  "kernelspec": {
   "display_name": "Python 3",
   "language": "python",
   "name": "python3"
  },
  "language_info": {
   "codemirror_mode": {
    "name": "ipython",
    "version": 3
   },
   "file_extension": ".py",
   "mimetype": "text/x-python",
   "name": "python",
   "nbconvert_exporter": "python",
   "pygments_lexer": "ipython3",
   "version": "3.6.8"
  }
 },
 "nbformat": 4,
 "nbformat_minor": 2
}
